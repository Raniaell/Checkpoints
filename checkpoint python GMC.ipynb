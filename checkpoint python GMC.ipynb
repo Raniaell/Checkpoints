{
 "cells": [
  {
   "cell_type": "code",
   "execution_count": 1,
   "id": "2fb57089",
   "metadata": {},
   "outputs": [
    {
     "name": "stdout",
     "output_type": "stream",
     "text": [
      "[2030, 2065, 2100, 2135, 2170, 2205, 2240, 2275, 2310, 2345, 2380, 2415, 2450, 2485, 2520, 2555, 2590, 2625, 2660, 2695, 2730, 2765, 2800, 2835, 2870, 2905, 2940, 2975, 3010, 3045, 3080, 3115, 3150, 3185]\n"
     ]
    }
   ],
   "source": [
    "#QUESTION1\n",
    "L=[]\n",
    "for x in range(2000,3200):\n",
    "    if (x%7==0) and (x%5==0):\n",
    "        L.append(x)\n",
    "print(L)\n"
   ]
  },
  {
   "cell_type": "code",
   "execution_count": 2,
   "id": "a9a912d2",
   "metadata": {},
   "outputs": [
    {
     "name": "stdout",
     "output_type": "stream",
     "text": [
      "Factorial of 5 is 120\n"
     ]
    }
   ],
   "source": [
    "#Question2\n",
    "def factorial(n):\n",
    "    if n<1:\n",
    "        return 0\n",
    "    elif (n==0) or (n==1):\n",
    "        return 1\n",
    "    else:\n",
    "        f=1\n",
    "        while (n>1):\n",
    "            f=f*n \n",
    "            n=n-1\n",
    "        return f\n",
    "\n",
    "print('Factorial of',5,'is', factorial(5))"
   ]
  },
  {
   "cell_type": "code",
   "execution_count": 4,
   "id": "cb6e40fa",
   "metadata": {},
   "outputs": [
    {
     "name": "stdout",
     "output_type": "stream",
     "text": [
      "Dict of the number 8 is {1: 1, 2: 4, 3: 9, 4: 16, 5: 25, 6: 36, 7: 49, 8: 64}\n"
     ]
    }
   ],
   "source": [
    "#Question3\n",
    "def dict(n):\n",
    "    d={}\n",
    "    for i in range (1 , n+1):\n",
    "        d[i]=i*i\n",
    "        i+=1\n",
    "    return d\n",
    "         \n",
    "print('Dict of the number', 8, 'is', dict(8))\n",
    "        "
   ]
  },
  {
   "cell_type": "code",
   "execution_count": 5,
   "id": "a7633f6a",
   "metadata": {},
   "outputs": [
    {
     "name": "stdout",
     "output_type": "stream",
     "text": [
      "ktten\n",
      "itten\n",
      "kittn\n"
     ]
    }
   ],
   "source": [
    "#Question4\n",
    "def missing_char(ch, n):\n",
    "    if n in range (0, (len(ch)-1)):\n",
    "        str1 = lambda ch : ch[:n]\n",
    "        str2 = lambda ch : ch[n+1:]\n",
    "    return str1(ch)+str2(ch)\n",
    "    \n",
    "print(missing_char(\"kitten\",1))\n",
    "print(missing_char(\"kitten\",0))\n",
    "print(missing_char(\"kitten\",4))"
   ]
  },
  {
   "cell_type": "code",
   "execution_count": 6,
   "id": "56d9261a",
   "metadata": {
    "scrolled": true
   },
   "outputs": [
    {
     "data": {
      "text/plain": [
       "[[0, 1], [2, 3], [4, 5]]"
      ]
     },
     "execution_count": 6,
     "metadata": {},
     "output_type": "execute_result"
    }
   ],
   "source": [
    "#Question5\n",
    "import numpy as np \n",
    "a= np.array([[0,1], [2,3], [4,5]])\n",
    "a.tolist()"
   ]
  },
  {
   "cell_type": "code",
   "execution_count": 7,
   "id": "0681c852",
   "metadata": {},
   "outputs": [
    {
     "name": "stdout",
     "output_type": "stream",
     "text": [
      "[0 1 2]\n",
      "[2 1 0]\n",
      "[[ 1. -1.]\n",
      " [-1.  1.]]\n"
     ]
    }
   ],
   "source": [
    "#Question6\n",
    "import numpy as np \n",
    "a=np.array([0, 1, 2])\n",
    "print(a)\n",
    "b=np.array([2, 1, 0])\n",
    "print(b)\n",
    "x=np.cov(a,b)\n",
    "print(x)"
   ]
  },
  {
   "cell_type": "code",
   "execution_count": 11,
   "id": "367ae76b",
   "metadata": {},
   "outputs": [
    {
     "name": "stdout",
     "output_type": "stream",
     "text": [
      "enter the value of D\n",
      "100,150,180\n",
      "output= [18, 22, 24]\n"
     ]
    }
   ],
   "source": [
    "#Question7\n",
    "import math\n",
    "C= 50\n",
    "H = 30\n",
    "D=[]\n",
    "Dv=input(\"enter the value of D\\n\")\n",
    "D=Dv.split(',')\n",
    "D = [int(i) for i in D]\n",
    "i=0\n",
    "l = len(D)\n",
    "output=[]\n",
    "while(i<l):\n",
    "    Q = round(math.sqrt((2*C*D[i])/H))\n",
    "    output. append(Q)\n",
    "    i+=1\n",
    "print(\"output=\",output)"
   ]
  },
  {
   "cell_type": "code",
   "execution_count": null,
   "id": "07fe6083",
   "metadata": {},
   "outputs": [],
   "source": []
  }
 ],
 "metadata": {
  "kernelspec": {
   "display_name": "Python 3 (ipykernel)",
   "language": "python",
   "name": "python3"
  },
  "language_info": {
   "codemirror_mode": {
    "name": "ipython",
    "version": 3
   },
   "file_extension": ".py",
   "mimetype": "text/x-python",
   "name": "python",
   "nbconvert_exporter": "python",
   "pygments_lexer": "ipython3",
   "version": "3.9.13"
  }
 },
 "nbformat": 4,
 "nbformat_minor": 5
}
